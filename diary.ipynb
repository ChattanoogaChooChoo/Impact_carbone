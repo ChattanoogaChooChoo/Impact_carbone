{
 "cells": [
  {
   "cell_type": "markdown",
   "metadata": {},
   "source": [
    "# Journal de bord"
   ]
  },
  {
   "cell_type": "markdown",
   "metadata": {},
   "source": [
    "### Jour 1 : le 09/09/24 \n",
    "\n",
    "Les difficultés rencontrées : \n",
    "- le dataset était trop difficile à exploiter\n",
    "- openfoodfact était trop gros \n",
    "- les datas d'agribalyse était difficile exploitable pour notre projet\n",
    "- première fois que l'on bosse en équipe et à distance"
   ]
  },
  {
   "cell_type": "markdown",
   "metadata": {},
   "source": [
    "Les solutions : \n",
    "- Heureusement que l'équipe est réactive \n",
    "- Célian a trouvé un dataset sur l'impact carbone sur Kaggle\n",
    "- On communique fréquemment dans la journée pour nous améliorer notre collab"
   ]
  },
  {
   "cell_type": "markdown",
   "metadata": {},
   "source": [
    "Conclusion de la journée : \n",
    "- Une équipe en or hyper efficace\n",
    "- Benjamin s'est occupé de l'interface \n",
    "- Celian a trouvé le dataset et a commencé à tester un modèle de regression linéaire \n",
    "- Hana s'est occupé de nous faire les viz \n",
    "- Je me suis occupé du data clean, de commenter ainsi faire les rapports de fin de journée."
   ]
  },
  {
   "cell_type": "markdown",
   "metadata": {},
   "source": [
    "### Jour 2 : le 10/09/24\n",
    "\n",
    "Objectif (méthode Kanban) :\n",
    "- Célian corrige le code\n",
    "- Benjamin crée le form \n",
    "- Hana règle ses problèmes de setup et continue les viz\n",
    "- Je clean notre GitHub, je continue de commenter et j'intègre les viz d'Hana\n",
    "\n",
    "Difficulté rencontré : \n",
    "- difficulté d'intégration des cellules corrélées \"Mode de transport\" et \"Carburant\"\n",
    "- difficulté à créer le modèle parfait sans overfitter mais j'ai atteint 98 en score r2 et une mae vraiment basse donc très cool\n",
    "- corrélation entre les features de façon globale pas très lisible\n",
    "- écriture des commentaires est chronophage mais on sait que c'est important"
   ]
  },
  {
   "cell_type": "markdown",
   "metadata": {},
   "source": [
    "### Jour 3 : le 11/09/24"
   ]
  },
  {
   "cell_type": "markdown",
   "metadata": {},
   "source": [
    "Objectif (méthode Kanban) :\n",
    "- Célian / Benjamin : Test du chargement de modèle vers l'interface\n",
    "- Hana / Dany : Data Viz et Correlation + commentaires\n",
    "\n",
    "Compte rendu de la journée : \n",
    "- Test du modèle est fonctionnel ok\n",
    "- Essai sur l'interface en local ok\n",
    "- Essai de Re Model > piste de perfection > Polynomial et Gradient \n",
    "\n",
    "Conclusion : \n",
    "Reflexion \n",
    "A faire pour demain \n",
    "\n",
    "- Proposer un résultat amélioré (Round le résultat, mettre en tonne, mettre la quantité, )\n",
    "- Comparaison aux moyennes par pays\n",
    "- Mettre un graphique camembert proportionnel en fonction des features qui impactent le plus ou non dans l'empreinte\n",
    "- x12 du résultat pour avoir le résultat à l'année\n",
    "- points d'interrogations pour expliquer chaque features\n",
    "- compiler le modele pour ne pas l'avoir à le re train à chaque fois\n",
    "- donner des idées pour l'interface en mode brainstorming \n",
    "- selection features en fonction du cours de Malika "
   ]
  },
  {
   "cell_type": "markdown",
   "metadata": {},
   "source": [
    "### Jour 4 : le 12/09/24"
   ]
  },
  {
   "cell_type": "markdown",
   "metadata": {},
   "source": [
    "Objectif (Méthode Kanban) : \n",
    "- Dany : Re Modèle avec un sample plus petit (2000) et learning curve, \n",
    "retrouver l'impact carbone / personne / pays\n",
    "range des sacs poubelles\n",
    "Création du projet sur GCP \n",
    "MAJ de requirements : +pickle +shap\n",
    "ML Ops\n",
    "- Benjamin : Ajout possibilité de partage sur les réseaux sociaux, modification\n",
    "- Hana : Def Shap\n",
    "- Celian : modif preprocess au niveau de la column transformer\n",
    "\n",
    "Difficulté :\n",
    "- Benjamin : \"Au rangs des difficultés rencontrées pour l'interface, la modification des styles est compliquée directement avec les éléments du framework. Il faut en passer par une balise style codée dans une chaîne de caractères pour retrouver toute les possibilités offertes par les CSS.\"\n",
    "- Hana : Besoin d'amélioration des fonctions, problème avec le module shap.Explainer \n",
    "- Dany : Mise en place de ML Ops : vidéo de cours WIP \n",
    "\n",
    "Conclusion : \n",
    "A faire pour demain : \n",
    "\n",
    "- Gestion des problèmes rencontrées ce jour \n",
    "- Creation du dossier setup.py\n",
    "- Creation de l'env pour la VM \n",
    "- Creation des pip install -r requirements \n",
    "- Creation de la def Camembert \n",
    "- Split des def Preprocess et def Data cleaning \n",
    "- Shap à affiner\n",
    "- repos bien mérité\n"
   ]
  },
  {
   "cell_type": "markdown",
   "metadata": {},
   "source": [
    "### Jour 5 : le 13/09/24 "
   ]
  },
  {
   "cell_type": "markdown",
   "metadata": {},
   "source": [
    "Objectif : \n",
    "- Hana devait corriger le fichier shap\n",
    "- Benjamin continue d'améliorer l'interface tout en remettant le code de l'UI proprement\n",
    "- Dany devait restructurer notre GitHub et débuter la structure du GCP\n",
    "- Célian devait consolider les liens entre les modules et réfléchir sur une proposition graphique en camembert\n",
    "\n",
    "Difficulté : \n",
    "- Benjamin s'est un peu perdu avec les modifs de l'UI\n",
    "- Incompatibilité avec notre env et les modules, nous avons du faire un autre repo\n",
    "- le module shap ne fonctionne pas et on ne comprend pas pourquoi, Hana a demandé de l'aide à Malika \n",
    "- Célian a du attendre la fin de certains de nos modules pour commencer, la restructuration a du lui demander de remettre de l'ordre dans les codes \n",
    "\n",
    "Conclusion : \n",
    "- Hana et Malika ont trouvé la solution ! problème de naming du dossier shap.py, il y avait un conflit lors de l'import. Une erreur de débutant qu'on ne fera plus ^^ \n",
    "- Benjamin, a force de travail, nous a présenté un délivrable et a pris des initiatives bienvenues sur UX de l'interface :) \n",
    "- Célian peut maintenant travailler sur les 2 dernières features : la présentation du camembert et les recommendations en fonction du shap\n",
    "- Notre GitHub est maintenant mieux structuré et plus professionnel. Le GCP et le Bucket sont prêt pour débuter une nouvelle semaine. "
   ]
  },
  {
   "cell_type": "markdown",
   "metadata": {},
   "source": [
    "### Jour 6 : le 16/09/24 "
   ]
  },
  {
   "cell_type": "markdown",
   "metadata": {},
   "source": [
    "Objectif : \n",
    "- Création du setup.py et des packages\n",
    "- Création des features camembert + recommendations \n",
    "- Revoir les range du scoring impact carbone "
   ]
  },
  {
   "cell_type": "markdown",
   "metadata": {},
   "source": []
  }
 ],
 "metadata": {
  "kernelspec": {
   "display_name": "Python 3",
   "language": "python",
   "name": "python3"
  },
  "language_info": {
   "codemirror_mode": {
    "name": "ipython",
    "version": 3
   },
   "file_extension": ".py",
   "mimetype": "text/x-python",
   "name": "python",
   "nbconvert_exporter": "python",
   "pygments_lexer": "ipython3",
   "version": "3.12.4"
  }
 },
 "nbformat": 4,
 "nbformat_minor": 2
}
